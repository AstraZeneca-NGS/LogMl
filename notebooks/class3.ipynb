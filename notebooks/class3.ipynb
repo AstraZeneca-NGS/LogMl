{
 "cells": [
  {
   "cell_type": "code",
   "execution_count": null,
   "metadata": {},
   "outputs": [],
   "source": [
    "%load_ext autoreload\n",
    "%autoreload 2\n",
    "%matplotlib inline\n",
    "\n",
    "import matplotlib.pyplot as plt\n",
    "import numpy as np\n",
    "import pandas as pd\n",
    "import sys\n",
    "import os\n",
    "\n",
    "# Set path to use 'src' subdir\n",
    "sys.path.append(os.path.join(os.getcwd(), 'src'))"
   ]
  },
  {
   "cell_type": "markdown",
   "metadata": {},
   "source": [
    "# Classification model"
   ]
  },
  {
   "cell_type": "markdown",
   "metadata": {},
   "source": [
    "This is a toy exampe using a simple classification model. The data is created using three numerical variables.\n",
    "\n",
    "\\begin{align}\n",
    "z & = 3 x_1 - x_2 + \\frac{x_3}{2} + 0.1 n\\\\\n",
    "y & = \\left[\n",
    "\\begin{array}{ll}\n",
    "'low' & z < -3 \\\\\n",
    "'mid' & z < 3 \\\\\n",
    "'hi'  & ! \\\\\n",
    "\\end{array}\n",
    "\\right. \\\\\n",
    "\\end{align}\n",
    "\n",
    "\n",
    "where:\n",
    "- x1 : Normally distributted N(0, 1)\n",
    "- x2 : Normally distributted N(2, 2)\n",
    "- x3 : Normally distributted N(-3, 5)\n",
    "- n : Random noise, Normally distributted N(0, 1)\n",
    "\n",
    "Here is the code for creating the dataset"
   ]
  },
  {
   "cell_type": "code",
   "execution_count": null,
   "metadata": {},
   "outputs": [],
   "source": [
    "def to_class(c):\n",
    "    if c < -3:\n",
    "        return 'low'\n",
    "    if c < 3:\n",
    "        return 'mid'\n",
    "    return 'high'\n",
    "\n",
    "\n",
    "# Create dataset\n",
    "def create_dataset():\n",
    "    # Number of samples\n",
    "    num = 2000\n",
    "    # Inputs: x1, x2, x3\n",
    "    x1 = np.random.normal(0, 1, num)\n",
    "    x2 = np.random.normal(2, 3, num)\n",
    "    x3 = np.random.normal(-3, 5, num)\n",
    "    # Noise\n",
    "    n = np.random.normal(0, 1, num)\n",
    "    # Output\n",
    "    y = 3. * x1 - 1. * x2 + 0.5 * x3 + 0.1 * n\n",
    "    # Categorical output\n",
    "    y_str = np.array([to_class(c) for c in y])\n",
    "    # Add missing data\n",
    "    x1_na = (np.random.rand(num) < 0.01)\n",
    "    x2_na = (np.random.rand(num) < 0.01)\n",
    "    x3_na = (np.random.rand(num) < 0.01)\n",
    "    x1[x1_na] = np.nan\n",
    "    x2[x2_na] = np.nan\n",
    "    x3[x3_na] = np.nan\n",
    "    y_na = (np.random.rand(num) < 0.01)\n",
    "    y_str[y_na] = ''\n",
    "    # Create dataFrame\n",
    "    df = pd.DataFrame({'x1': x1, 'x2': x2, 'x3': x3, 'y': y_str})\n",
    "    df.to_csv('class3.csv', index=False)"
   ]
  },
  {
   "cell_type": "markdown",
   "metadata": {},
   "source": [
    "# LogMl"
   ]
  },
  {
   "cell_type": "markdown",
   "metadata": {},
   "source": [
    "We create a LogMl object, and then run it"
   ]
  },
  {
   "cell_type": "code",
   "execution_count": null,
   "metadata": {},
   "outputs": [],
   "source": [
    "!rm -rvf data/class3/class3.pkl logml_plots/class3"
   ]
  },
  {
   "cell_type": "code",
   "execution_count": null,
   "metadata": {
    "scrolled": false
   },
   "outputs": [],
   "source": [
    "from logml import *\n",
    "\n",
    "ml = LogMl('config/class3.yaml', verbose=True)\n",
    "ml()"
   ]
  },
  {
   "cell_type": "code",
   "execution_count": null,
   "metadata": {},
   "outputs": [],
   "source": []
  }
 ],
 "metadata": {
  "kernelspec": {
   "display_name": "logml",
   "language": "python",
   "name": "logml"
  },
  "language_info": {
   "codemirror_mode": {
    "name": "ipython",
    "version": 3
   },
   "file_extension": ".py",
   "mimetype": "text/x-python",
   "name": "python",
   "nbconvert_exporter": "python",
   "pygments_lexer": "ipython3",
   "version": "3.7.3"
  }
 },
 "nbformat": 4,
 "nbformat_minor": 2
}
