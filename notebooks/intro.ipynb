{
 "cells": [
  {
   "cell_type": "markdown",
   "metadata": {},
   "source": [
    "# Introduction to LogMl"
   ]
  },
  {
   "cell_type": "markdown",
   "metadata": {},
   "source": [
    "**Important**: This assumes that you installed LogMl in the default directory, according to the documentation and are running this notebook from that directory (i.e. $HOME/logml)"
   ]
  },
  {
   "cell_type": "markdown",
   "metadata": {},
   "source": [
    "### Initialize Jupyter Notebook"
   ]
  },
  {
   "cell_type": "code",
   "execution_count": null,
   "metadata": {},
   "outputs": [],
   "source": [
    "%load_ext autoreload\n",
    "%autoreload 2\n",
    "%matplotlib inline\n",
    "\n",
    "import matplotlib.pyplot as plt\n",
    "import numpy as np\n",
    "import pandas as pd\n",
    "import sys\n",
    "import os\n",
    "\n",
    "from pathlib import Path"
   ]
  },
  {
   "cell_type": "markdown",
   "metadata": {},
   "source": [
    "Set path to use 'src' subdir"
   ]
  },
  {
   "cell_type": "code",
   "execution_count": null,
   "metadata": {},
   "outputs": [],
   "source": [
    "logml_src = str(Path(os.getcwd())/'src')\n",
    "print(f\"Adding Python path '{logml_src}'\")\n",
    "sys.path.append(logml_src)"
   ]
  },
  {
   "cell_type": "markdown",
   "metadata": {},
   "source": [
    "# Create Dataset"
   ]
  },
  {
   "cell_type": "code",
   "execution_count": null,
   "metadata": {},
   "outputs": [],
   "source": [
    "dataset_name = 'intro'"
   ]
  },
  {
   "cell_type": "code",
   "execution_count": null,
   "metadata": {},
   "outputs": [],
   "source": [
    "def rand_norm(num, mean, std, na_prob):\n",
    "    xi = np.random.normal(mean, std, num)\n",
    "    xi_na = (np.random.rand(num) <= na_prob)\n",
    "    xi[xi_na] = np.nan\n",
    "    return xi\n",
    "\n",
    "# Create dataset\n",
    "def create_dataset(num=1000, prob_na=0.05):\n",
    "    # Inputs: x1, x2, x3\n",
    "    dfdict = dict()\n",
    "    x1 = rand_norm(num, 0, 1, prob_na)\n",
    "    x2 = rand_norm(num, 1, 1, prob_na)\n",
    "    x3 = rand_norm(num, -1, 1, prob_na)\n",
    "    n = rand_norm(num, 0, 1, -1)\n",
    "    # Output\n",
    "    y = 2.0 * x1 - 1.0 * x2 + 0.5 * x3 + 0.1 * n\n",
    "    # Create dataFrame\n",
    "    df = pd.DataFrame({'x1': x1, 'x2': x2, 'x3': x3, 'y': y})\n",
    "    return df"
   ]
  },
  {
   "cell_type": "markdown",
   "metadata": {},
   "source": [
    "Make sure dataset directory exists"
   ]
  },
  {
   "cell_type": "code",
   "execution_count": null,
   "metadata": {},
   "outputs": [],
   "source": [
    "data_dir = Path('data')/dataset_name\n",
    "print(f\"Creating dir {data_dir}\")\n",
    "! mkdir -p {data_dir}"
   ]
  },
  {
   "cell_type": "markdown",
   "metadata": {},
   "source": [
    "Run function to create, then save it"
   ]
  },
  {
   "cell_type": "code",
   "execution_count": null,
   "metadata": {},
   "outputs": [],
   "source": [
    "df = create_dataset()\n",
    "\n",
    "# Save to csv file\n",
    "csv_file = Path('data')/dataset_name/f\"{dataset_name}.csv\"\n",
    "print(f\"Saving to {csv_file}\")\n",
    "df.to_csv(csv_file, index=False)\n",
    "\n",
    "# Show first lines\n",
    "df.head()"
   ]
  },
  {
   "cell_type": "markdown",
   "metadata": {},
   "source": [
    "# Run LogMl"
   ]
  },
  {
   "cell_type": "markdown",
   "metadata": {},
   "source": [
    "Remove old files from previous runs"
   ]
  },
  {
   "cell_type": "code",
   "execution_count": null,
   "metadata": {
    "scrolled": false
   },
   "outputs": [],
   "source": [
    "!rm -vf data/{dataset_name}/*pkl"
   ]
  },
  {
   "cell_type": "code",
   "execution_count": null,
   "metadata": {
    "scrolled": false
   },
   "outputs": [],
   "source": [
    "from logml import *\n",
    "config_file = Path('config')/f\"{dataset_name}.yaml\"\n",
    "ml = LogMl(config_file)\n",
    "ml()"
   ]
  },
  {
   "cell_type": "code",
   "execution_count": null,
   "metadata": {},
   "outputs": [],
   "source": []
  }
 ],
 "metadata": {
  "kernelspec": {
   "display_name": "logml",
   "language": "python",
   "name": "logml"
  },
  "language_info": {
   "codemirror_mode": {
    "name": "ipython",
    "version": 3
   },
   "file_extension": ".py",
   "mimetype": "text/x-python",
   "name": "python",
   "nbconvert_exporter": "python",
   "pygments_lexer": "ipython3",
   "version": "3.7.3"
  }
 },
 "nbformat": 4,
 "nbformat_minor": 2
}
