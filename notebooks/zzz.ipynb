{
 "cells": [
  {
   "cell_type": "code",
   "execution_count": null,
   "metadata": {},
   "outputs": [],
   "source": [
    "%load_ext autoreload\n",
    "%autoreload 2\n",
    "%matplotlib inline\n",
    "\n",
    "import matplotlib.pyplot as plt\n",
    "import numpy as np\n",
    "import pandas as pd\n",
    "import sys\n",
    "import os\n",
    "\n",
    "# Set path to use 'src' subdir\n",
    "sys.path.append(os.path.join(os.getcwd(), 'src'))"
   ]
  },
  {
   "cell_type": "code",
   "execution_count": null,
   "metadata": {},
   "outputs": [],
   "source": [
    "# Create dataset\n",
    "def create_dataset():\n",
    "    # Number of samples\n",
    "    num = 1000\n",
    "    # Inputs: x1, x2, x3\n",
    "    x1 = np.random.normal(0, 1, num)\n",
    "    x2 = np.random.normal(2, 3, num)\n",
    "    x3 = np.random.normal(-3, 5, num)\n",
    "    # Categorical input: c1\n",
    "    c1 = (3 * np.random.rand(num)).astype(int)\n",
    "    c1_classes = {0: 'low', 1: 'mid', 2: 'high'}\n",
    "    c1_str = np.array([c1_classes[c] for c in c1])\n",
    "    # Categorical input: c2\n",
    "    c2 = (5 * np.random.rand(num)).astype(int)\n",
    "    c2_classes = {0: 'very_low', 1: 'low', 2: 'mid', 3: 'high', 4: 'very_high'}\n",
    "    c2_str = np.array([c2_classes[c] for c in c2])\n",
    "    # Noise\n",
    "    n = np.random.normal(0, 1, num)\n",
    "    # Output\n",
    "    y = 3. * x1 - 1. * x2 + 0.5 * x3 + 0.5 * c1 - 0.3 * c2 + 0.1 * n\n",
    "    # Add missing data\n",
    "    x1_na = (np.random.rand(num) < 0.01)\n",
    "    x2_na = (np.random.rand(num) < 0.01)\n",
    "    x3_na = (np.random.rand(num) < 0.01)\n",
    "    c1_na = (np.random.rand(num) < 0.01)\n",
    "    c2_na = (np.random.rand(num) < 0.01)\n",
    "    x1[x1_na] = np.nan\n",
    "    x2[x2_na] = np.nan\n",
    "    x3[x3_na] = np.nan\n",
    "    c1_str[c1_na] = ''\n",
    "    c2_str[c2_na] = ''\n",
    "    # Create dataFrame\n",
    "    df = pd.DataFrame({'x1': x1, 'x2': x2, 'x3': x3, 'c1': c1_str, 'c2': c2_str, 'y': y})\n",
    "    # Save to csv file\n",
    "    df.to_csv('zzz.csv', index=False)"
   ]
  },
  {
   "cell_type": "code",
   "execution_count": null,
   "metadata": {},
   "outputs": [],
   "source": [
    "!rm -vf data/zzz/*pkl"
   ]
  },
  {
   "cell_type": "code",
   "execution_count": null,
   "metadata": {
    "scrolled": false
   },
   "outputs": [],
   "source": [
    "from logml import *\n",
    "\n",
    "ml = LogMl('config/zzz.yaml', verbose=True)\n",
    "ml()"
   ]
  },
  {
   "cell_type": "code",
   "execution_count": null,
   "metadata": {},
   "outputs": [],
   "source": []
  }
 ],
 "metadata": {
  "kernelspec": {
   "display_name": "logml",
   "language": "python",
   "name": "logml"
  },
  "language_info": {
   "codemirror_mode": {
    "name": "ipython",
    "version": 3
   },
   "file_extension": ".py",
   "mimetype": "text/x-python",
   "name": "python",
   "nbconvert_exporter": "python",
   "pygments_lexer": "ipython3",
   "version": "3.7.3"
  }
 },
 "nbformat": 4,
 "nbformat_minor": 2
}
