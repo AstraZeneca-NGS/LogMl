{
 "cells": [
  {
   "cell_type": "code",
   "execution_count": 1,
   "metadata": {},
   "outputs": [],
   "source": [
    "%load_ext autoreload\n",
    "%autoreload 2\n",
    "%matplotlib inline"
   ]
  },
  {
   "cell_type": "code",
   "execution_count": 2,
   "metadata": {},
   "outputs": [],
   "source": [
    "import numpy as np\n",
    "import pandas as pd\n",
    "import matplotlib.pyplot as plt\n",
    "\n",
    "from IPython.display import display"
   ]
  },
  {
   "cell_type": "code",
   "execution_count": 3,
   "metadata": {},
   "outputs": [],
   "source": [
    "pd.set_option('display.max_rows', 500)\n",
    "pd.set_option('display.max_columns', 500)"
   ]
  },
  {
   "cell_type": "code",
   "execution_count": 4,
   "metadata": {
    "scrolled": false
   },
   "outputs": [
    {
     "name": "stderr",
     "output_type": "stream",
     "text": [
      "/Users/kqrw311/logml/lib/python3.7/site-packages/tensorflow/python/framework/dtypes.py:516: FutureWarning: Passing (type, 1) or '1type' as a synonym of type is deprecated; in a future version of numpy, it will be understood as (type, (1,)) / '(1,)type'.\n",
      "  _np_qint8 = np.dtype([(\"qint8\", np.int8, 1)])\n",
      "/Users/kqrw311/logml/lib/python3.7/site-packages/tensorflow/python/framework/dtypes.py:517: FutureWarning: Passing (type, 1) or '1type' as a synonym of type is deprecated; in a future version of numpy, it will be understood as (type, (1,)) / '(1,)type'.\n",
      "  _np_quint8 = np.dtype([(\"quint8\", np.uint8, 1)])\n",
      "/Users/kqrw311/logml/lib/python3.7/site-packages/tensorflow/python/framework/dtypes.py:518: FutureWarning: Passing (type, 1) or '1type' as a synonym of type is deprecated; in a future version of numpy, it will be understood as (type, (1,)) / '(1,)type'.\n",
      "  _np_qint16 = np.dtype([(\"qint16\", np.int16, 1)])\n",
      "/Users/kqrw311/logml/lib/python3.7/site-packages/tensorflow/python/framework/dtypes.py:519: FutureWarning: Passing (type, 1) or '1type' as a synonym of type is deprecated; in a future version of numpy, it will be understood as (type, (1,)) / '(1,)type'.\n",
      "  _np_quint16 = np.dtype([(\"quint16\", np.uint16, 1)])\n",
      "/Users/kqrw311/logml/lib/python3.7/site-packages/tensorflow/python/framework/dtypes.py:520: FutureWarning: Passing (type, 1) or '1type' as a synonym of type is deprecated; in a future version of numpy, it will be understood as (type, (1,)) / '(1,)type'.\n",
      "  _np_qint32 = np.dtype([(\"qint32\", np.int32, 1)])\n",
      "/Users/kqrw311/logml/lib/python3.7/site-packages/tensorflow/python/framework/dtypes.py:525: FutureWarning: Passing (type, 1) or '1type' as a synonym of type is deprecated; in a future version of numpy, it will be understood as (type, (1,)) / '(1,)type'.\n",
      "  np_resource = np.dtype([(\"resource\", np.ubyte, 1)])\n",
      "/Users/kqrw311/logml/lib/python3.7/site-packages/tensorboard/compat/tensorflow_stub/dtypes.py:541: FutureWarning: Passing (type, 1) or '1type' as a synonym of type is deprecated; in a future version of numpy, it will be understood as (type, (1,)) / '(1,)type'.\n",
      "  _np_qint8 = np.dtype([(\"qint8\", np.int8, 1)])\n",
      "/Users/kqrw311/logml/lib/python3.7/site-packages/tensorboard/compat/tensorflow_stub/dtypes.py:542: FutureWarning: Passing (type, 1) or '1type' as a synonym of type is deprecated; in a future version of numpy, it will be understood as (type, (1,)) / '(1,)type'.\n",
      "  _np_quint8 = np.dtype([(\"quint8\", np.uint8, 1)])\n",
      "/Users/kqrw311/logml/lib/python3.7/site-packages/tensorboard/compat/tensorflow_stub/dtypes.py:543: FutureWarning: Passing (type, 1) or '1type' as a synonym of type is deprecated; in a future version of numpy, it will be understood as (type, (1,)) / '(1,)type'.\n",
      "  _np_qint16 = np.dtype([(\"qint16\", np.int16, 1)])\n",
      "/Users/kqrw311/logml/lib/python3.7/site-packages/tensorboard/compat/tensorflow_stub/dtypes.py:544: FutureWarning: Passing (type, 1) or '1type' as a synonym of type is deprecated; in a future version of numpy, it will be understood as (type, (1,)) / '(1,)type'.\n",
      "  _np_quint16 = np.dtype([(\"quint16\", np.uint16, 1)])\n",
      "/Users/kqrw311/logml/lib/python3.7/site-packages/tensorboard/compat/tensorflow_stub/dtypes.py:545: FutureWarning: Passing (type, 1) or '1type' as a synonym of type is deprecated; in a future version of numpy, it will be understood as (type, (1,)) / '(1,)type'.\n",
      "  _np_qint32 = np.dtype([(\"qint32\", np.int32, 1)])\n",
      "/Users/kqrw311/logml/lib/python3.7/site-packages/tensorboard/compat/tensorflow_stub/dtypes.py:550: FutureWarning: Passing (type, 1) or '1type' as a synonym of type is deprecated; in a future version of numpy, it will be understood as (type, (1,)) / '(1,)type'.\n",
      "  np_resource = np.dtype([(\"resource\", np.ubyte, 1)])\n",
      "2019-10-04 15:29:10,711 INFO Reading yaml file 'config/linear3.yaml'\n",
      "2019-10-04 15:29:11,978 INFO Load dataset: Loading pickle file 'data/linear3/linear3.pkl'\n",
      "2019-10-04 15:29:13,129 INFO Model search: Start\n",
      "2019-10-04 15:29:13,130 INFO Search models: Start\n",
      "2019-10-04 15:29:15,285 INFO Creating model based on class 'sklearn.linear_model.LinearRegression'\n",
      "2019-10-04 15:29:17,805 INFO Search: Create dataset=False\n"
     ]
    },
    {
     "name": "stdout",
     "output_type": "stream",
     "text": [
      "\r",
      "  0%|          | 0/5 [00:00<?, ?it/s, best loss: ?]"
     ]
    },
    {
     "name": "stderr",
     "output_type": "stream",
     "text": [
      "2019-10-04 15:29:18,853 INFO Creating model based on class 'sklearn.ensemble.RandomForestRegressor'\n",
      "2019-10-04 15:29:20,499 INFO Hyper parameter optimization:\titeration: 1\tfit: 0.23416173717562283\tparameters: {'model_create': {'max_features': 0.4822981632273773, 'min_samples_leaf': 55, 'n_estimators': 810}}\tbest fit: 0.23416173717562283\tbest parameters: {'model_create': {'max_features': 0.4822981632273773, 'min_samples_leaf': 55, 'n_estimators': 810}}\n"
     ]
    },
    {
     "name": "stdout",
     "output_type": "stream",
     "text": [
      "\r",
      " 20%|██        | 1/5 [00:02<00:10,  2.69s/it, best loss: 0.23416173717562283]"
     ]
    },
    {
     "name": "stderr",
     "output_type": "stream",
     "text": [
      "2019-10-04 15:29:21,634 INFO Creating model based on class 'sklearn.ensemble.RandomForestRegressor'\n",
      "2019-10-04 15:29:23,294 INFO Hyper parameter optimization:\titeration: 2\tfit: 0.06594390205702583\tparameters: {'model_create': {'max_features': 0.9014845499439679, 'min_samples_leaf': 40, 'n_estimators': 708}}\tbest fit: 0.06594390205702583\tbest parameters: {'model_create': {'max_features': 0.9014845499439679, 'min_samples_leaf': 40, 'n_estimators': 708}}\n"
     ]
    },
    {
     "name": "stdout",
     "output_type": "stream",
     "text": [
      "\r",
      " 40%|████      | 2/5 [00:05<00:08,  2.72s/it, best loss: 0.06594390205702583]"
     ]
    },
    {
     "name": "stderr",
     "output_type": "stream",
     "text": [
      "2019-10-04 15:29:24,462 INFO Creating model based on class 'sklearn.ensemble.RandomForestRegressor'\n",
      "2019-10-04 15:29:25,763 INFO Hyper parameter optimization:\titeration: 3\tfit: 0.11842935883726424\tparameters: {'model_create': {'max_features': 0.42019554791898406, 'min_samples_leaf': 22, 'n_estimators': 429}}\tbest fit: 0.06594390205702583\tbest parameters: {'model_create': {'max_features': 0.9014845499439679, 'min_samples_leaf': 40, 'n_estimators': 708}}\n"
     ]
    },
    {
     "name": "stdout",
     "output_type": "stream",
     "text": [
      "\r",
      " 60%|██████    | 3/5 [00:07<00:05,  2.65s/it, best loss: 0.06594390205702583]"
     ]
    },
    {
     "name": "stderr",
     "output_type": "stream",
     "text": [
      "2019-10-04 15:29:26,834 INFO Creating model based on class 'sklearn.ensemble.RandomForestRegressor'\n",
      "2019-10-04 15:29:28,773 INFO Hyper parameter optimization:\titeration: 4\tfit: 0.08046676900581118\tparameters: {'model_create': {'max_features': 0.9784149324308329, 'min_samples_leaf': 48, 'n_estimators': 958}}\tbest fit: 0.06594390205702583\tbest parameters: {'model_create': {'max_features': 0.9014845499439679, 'min_samples_leaf': 40, 'n_estimators': 708}}\n"
     ]
    },
    {
     "name": "stdout",
     "output_type": "stream",
     "text": [
      "\r",
      " 80%|████████  | 4/5 [00:10<00:02,  2.76s/it, best loss: 0.06594390205702583]"
     ]
    },
    {
     "name": "stderr",
     "output_type": "stream",
     "text": [
      "2019-10-04 15:29:29,842 INFO Creating model based on class 'sklearn.ensemble.RandomForestRegressor'\n",
      "2019-10-04 15:29:31,318 INFO Hyper parameter optimization:\titeration: 5\tfit: 0.2831808341922609\tparameters: {'model_create': {'max_features': 0.5399422412616296, 'min_samples_leaf': 72, 'n_estimators': 615}}\tbest fit: 0.06594390205702583\tbest parameters: {'model_create': {'max_features': 0.9014845499439679, 'min_samples_leaf': 40, 'n_estimators': 708}}\n"
     ]
    },
    {
     "name": "stdout",
     "output_type": "stream",
     "text": [
      "100%|██████████| 5/5 [00:13<00:00,  2.70s/it, best loss: 0.06594390205702583]"
     ]
    },
    {
     "name": "stderr",
     "output_type": "stream",
     "text": [
      "2019-10-04 15:29:31,321 INFO Hyper parameter search best fit:{'max_features': 0.9014845499439679, 'min_samples_leaf': 40, 'n_estimators': 708}, best parameters: {'model_create': {'max_features': 0.9014845499439679, 'min_samples_leaf': 40, 'n_estimators': 708}}\n"
     ]
    },
    {
     "name": "stdout",
     "output_type": "stream",
     "text": [
      "\n"
     ]
    },
    {
     "name": "stderr",
     "output_type": "stream",
     "text": [
      "2019-10-04 15:29:31,578 INFO Search models: End\n",
      "2019-10-04 15:29:31,579 INFO Model search: End\n"
     ]
    },
    {
     "data": {
      "text/html": [
       "<div>\n",
       "<style scoped>\n",
       "    .dataframe tbody tr th:only-of-type {\n",
       "        vertical-align: middle;\n",
       "    }\n",
       "\n",
       "    .dataframe tbody tr th {\n",
       "        vertical-align: top;\n",
       "    }\n",
       "\n",
       "    .dataframe thead th {\n",
       "        text-align: right;\n",
       "    }\n",
       "</style>\n",
       "<table border=\"1\" class=\"dataframe\">\n",
       "  <thead>\n",
       "    <tr style=\"text-align: right;\">\n",
       "      <th></th>\n",
       "      <th>train</th>\n",
       "      <th>validate</th>\n",
       "      <th>time</th>\n",
       "      <th>copy_X</th>\n",
       "      <th>fit_intercept</th>\n",
       "      <th>normalize</th>\n",
       "      <th>bootstrap</th>\n",
       "      <th>criterion</th>\n",
       "      <th>max_features</th>\n",
       "      <th>min_impurity_decrease</th>\n",
       "      <th>min_samples_leaf</th>\n",
       "      <th>min_samples_split</th>\n",
       "      <th>min_weight_fraction_leaf</th>\n",
       "      <th>n_estimators</th>\n",
       "      <th>oob_score</th>\n",
       "      <th>verbose</th>\n",
       "      <th>warm_start</th>\n",
       "    </tr>\n",
       "  </thead>\n",
       "  <tbody>\n",
       "    <tr>\n",
       "      <td>sklearn.linear_model.LinearRegression.20191004.192914.489283.3</td>\n",
       "      <td>0.000000</td>\n",
       "      <td>0.000000</td>\n",
       "      <td>0.526523</td>\n",
       "      <td>True</td>\n",
       "      <td>True</td>\n",
       "      <td>True</td>\n",
       "      <td>NaN</td>\n",
       "      <td>NaN</td>\n",
       "      <td>NaN</td>\n",
       "      <td>NaN</td>\n",
       "      <td>NaN</td>\n",
       "      <td>NaN</td>\n",
       "      <td>NaN</td>\n",
       "      <td>NaN</td>\n",
       "      <td>NaN</td>\n",
       "      <td>NaN</td>\n",
       "      <td>NaN</td>\n",
       "    </tr>\n",
       "    <tr>\n",
       "      <td>sklearn.ensemble.RandomForestRegressor.20191004.192920.622986.6</td>\n",
       "      <td>0.065944</td>\n",
       "      <td>0.065944</td>\n",
       "      <td>1.373515</td>\n",
       "      <td>NaN</td>\n",
       "      <td>NaN</td>\n",
       "      <td>NaN</td>\n",
       "      <td>True</td>\n",
       "      <td>mse</td>\n",
       "      <td>0.901485</td>\n",
       "      <td>0.0</td>\n",
       "      <td>40.0</td>\n",
       "      <td>2.0</td>\n",
       "      <td>0.0</td>\n",
       "      <td>708.0</td>\n",
       "      <td>False</td>\n",
       "      <td>0.0</td>\n",
       "      <td>False</td>\n",
       "    </tr>\n",
       "    <tr>\n",
       "      <td>sklearn.ensemble.RandomForestRegressor.20191004.192925.889802.8</td>\n",
       "      <td>0.080467</td>\n",
       "      <td>0.080467</td>\n",
       "      <td>1.617605</td>\n",
       "      <td>NaN</td>\n",
       "      <td>NaN</td>\n",
       "      <td>NaN</td>\n",
       "      <td>True</td>\n",
       "      <td>mse</td>\n",
       "      <td>0.978415</td>\n",
       "      <td>0.0</td>\n",
       "      <td>48.0</td>\n",
       "      <td>2.0</td>\n",
       "      <td>0.0</td>\n",
       "      <td>958.0</td>\n",
       "      <td>False</td>\n",
       "      <td>0.0</td>\n",
       "      <td>False</td>\n",
       "    </tr>\n",
       "    <tr>\n",
       "      <td>sklearn.ensemble.RandomForestRegressor.20191004.192923.469620.7</td>\n",
       "      <td>0.118429</td>\n",
       "      <td>0.118429</td>\n",
       "      <td>1.014101</td>\n",
       "      <td>NaN</td>\n",
       "      <td>NaN</td>\n",
       "      <td>NaN</td>\n",
       "      <td>True</td>\n",
       "      <td>mse</td>\n",
       "      <td>0.420196</td>\n",
       "      <td>0.0</td>\n",
       "      <td>22.0</td>\n",
       "      <td>2.0</td>\n",
       "      <td>0.0</td>\n",
       "      <td>429.0</td>\n",
       "      <td>False</td>\n",
       "      <td>0.0</td>\n",
       "      <td>False</td>\n",
       "    </tr>\n",
       "    <tr>\n",
       "      <td>sklearn.ensemble.RandomForestRegressor.20191004.192917.937178.5</td>\n",
       "      <td>0.234162</td>\n",
       "      <td>0.234162</td>\n",
       "      <td>1.330801</td>\n",
       "      <td>NaN</td>\n",
       "      <td>NaN</td>\n",
       "      <td>NaN</td>\n",
       "      <td>True</td>\n",
       "      <td>mse</td>\n",
       "      <td>0.482298</td>\n",
       "      <td>0.0</td>\n",
       "      <td>55.0</td>\n",
       "      <td>2.0</td>\n",
       "      <td>0.0</td>\n",
       "      <td>810.0</td>\n",
       "      <td>False</td>\n",
       "      <td>0.0</td>\n",
       "      <td>False</td>\n",
       "    </tr>\n",
       "    <tr>\n",
       "      <td>sklearn.ensemble.RandomForestRegressor.20191004.192928.902173.9</td>\n",
       "      <td>0.283181</td>\n",
       "      <td>0.283181</td>\n",
       "      <td>1.171605</td>\n",
       "      <td>NaN</td>\n",
       "      <td>NaN</td>\n",
       "      <td>NaN</td>\n",
       "      <td>True</td>\n",
       "      <td>mse</td>\n",
       "      <td>0.539942</td>\n",
       "      <td>0.0</td>\n",
       "      <td>72.0</td>\n",
       "      <td>2.0</td>\n",
       "      <td>0.0</td>\n",
       "      <td>615.0</td>\n",
       "      <td>False</td>\n",
       "      <td>0.0</td>\n",
       "      <td>False</td>\n",
       "    </tr>\n",
       "  </tbody>\n",
       "</table>\n",
       "</div>"
      ],
      "text/plain": [
       "                                                       train  validate  \\\n",
       "sklearn.linear_model.LinearRegression.20191004....  0.000000  0.000000   \n",
       "sklearn.ensemble.RandomForestRegressor.20191004...  0.065944  0.065944   \n",
       "sklearn.ensemble.RandomForestRegressor.20191004...  0.080467  0.080467   \n",
       "sklearn.ensemble.RandomForestRegressor.20191004...  0.118429  0.118429   \n",
       "sklearn.ensemble.RandomForestRegressor.20191004...  0.234162  0.234162   \n",
       "sklearn.ensemble.RandomForestRegressor.20191004...  0.283181  0.283181   \n",
       "\n",
       "                                                        time copy_X  \\\n",
       "sklearn.linear_model.LinearRegression.20191004....  0.526523   True   \n",
       "sklearn.ensemble.RandomForestRegressor.20191004...  1.373515    NaN   \n",
       "sklearn.ensemble.RandomForestRegressor.20191004...  1.617605    NaN   \n",
       "sklearn.ensemble.RandomForestRegressor.20191004...  1.014101    NaN   \n",
       "sklearn.ensemble.RandomForestRegressor.20191004...  1.330801    NaN   \n",
       "sklearn.ensemble.RandomForestRegressor.20191004...  1.171605    NaN   \n",
       "\n",
       "                                                   fit_intercept normalize  \\\n",
       "sklearn.linear_model.LinearRegression.20191004....          True      True   \n",
       "sklearn.ensemble.RandomForestRegressor.20191004...           NaN       NaN   \n",
       "sklearn.ensemble.RandomForestRegressor.20191004...           NaN       NaN   \n",
       "sklearn.ensemble.RandomForestRegressor.20191004...           NaN       NaN   \n",
       "sklearn.ensemble.RandomForestRegressor.20191004...           NaN       NaN   \n",
       "sklearn.ensemble.RandomForestRegressor.20191004...           NaN       NaN   \n",
       "\n",
       "                                                   bootstrap criterion  \\\n",
       "sklearn.linear_model.LinearRegression.20191004....       NaN       NaN   \n",
       "sklearn.ensemble.RandomForestRegressor.20191004...      True       mse   \n",
       "sklearn.ensemble.RandomForestRegressor.20191004...      True       mse   \n",
       "sklearn.ensemble.RandomForestRegressor.20191004...      True       mse   \n",
       "sklearn.ensemble.RandomForestRegressor.20191004...      True       mse   \n",
       "sklearn.ensemble.RandomForestRegressor.20191004...      True       mse   \n",
       "\n",
       "                                                    max_features  \\\n",
       "sklearn.linear_model.LinearRegression.20191004....           NaN   \n",
       "sklearn.ensemble.RandomForestRegressor.20191004...      0.901485   \n",
       "sklearn.ensemble.RandomForestRegressor.20191004...      0.978415   \n",
       "sklearn.ensemble.RandomForestRegressor.20191004...      0.420196   \n",
       "sklearn.ensemble.RandomForestRegressor.20191004...      0.482298   \n",
       "sklearn.ensemble.RandomForestRegressor.20191004...      0.539942   \n",
       "\n",
       "                                                    min_impurity_decrease  \\\n",
       "sklearn.linear_model.LinearRegression.20191004....                    NaN   \n",
       "sklearn.ensemble.RandomForestRegressor.20191004...                    0.0   \n",
       "sklearn.ensemble.RandomForestRegressor.20191004...                    0.0   \n",
       "sklearn.ensemble.RandomForestRegressor.20191004...                    0.0   \n",
       "sklearn.ensemble.RandomForestRegressor.20191004...                    0.0   \n",
       "sklearn.ensemble.RandomForestRegressor.20191004...                    0.0   \n",
       "\n",
       "                                                    min_samples_leaf  \\\n",
       "sklearn.linear_model.LinearRegression.20191004....               NaN   \n",
       "sklearn.ensemble.RandomForestRegressor.20191004...              40.0   \n",
       "sklearn.ensemble.RandomForestRegressor.20191004...              48.0   \n",
       "sklearn.ensemble.RandomForestRegressor.20191004...              22.0   \n",
       "sklearn.ensemble.RandomForestRegressor.20191004...              55.0   \n",
       "sklearn.ensemble.RandomForestRegressor.20191004...              72.0   \n",
       "\n",
       "                                                    min_samples_split  \\\n",
       "sklearn.linear_model.LinearRegression.20191004....                NaN   \n",
       "sklearn.ensemble.RandomForestRegressor.20191004...                2.0   \n",
       "sklearn.ensemble.RandomForestRegressor.20191004...                2.0   \n",
       "sklearn.ensemble.RandomForestRegressor.20191004...                2.0   \n",
       "sklearn.ensemble.RandomForestRegressor.20191004...                2.0   \n",
       "sklearn.ensemble.RandomForestRegressor.20191004...                2.0   \n",
       "\n",
       "                                                    min_weight_fraction_leaf  \\\n",
       "sklearn.linear_model.LinearRegression.20191004....                       NaN   \n",
       "sklearn.ensemble.RandomForestRegressor.20191004...                       0.0   \n",
       "sklearn.ensemble.RandomForestRegressor.20191004...                       0.0   \n",
       "sklearn.ensemble.RandomForestRegressor.20191004...                       0.0   \n",
       "sklearn.ensemble.RandomForestRegressor.20191004...                       0.0   \n",
       "sklearn.ensemble.RandomForestRegressor.20191004...                       0.0   \n",
       "\n",
       "                                                    n_estimators oob_score  \\\n",
       "sklearn.linear_model.LinearRegression.20191004....           NaN       NaN   \n",
       "sklearn.ensemble.RandomForestRegressor.20191004...         708.0     False   \n",
       "sklearn.ensemble.RandomForestRegressor.20191004...         958.0     False   \n",
       "sklearn.ensemble.RandomForestRegressor.20191004...         429.0     False   \n",
       "sklearn.ensemble.RandomForestRegressor.20191004...         810.0     False   \n",
       "sklearn.ensemble.RandomForestRegressor.20191004...         615.0     False   \n",
       "\n",
       "                                                    verbose warm_start  \n",
       "sklearn.linear_model.LinearRegression.20191004....      NaN        NaN  \n",
       "sklearn.ensemble.RandomForestRegressor.20191004...      0.0      False  \n",
       "sklearn.ensemble.RandomForestRegressor.20191004...      0.0      False  \n",
       "sklearn.ensemble.RandomForestRegressor.20191004...      0.0      False  \n",
       "sklearn.ensemble.RandomForestRegressor.20191004...      0.0      False  \n",
       "sklearn.ensemble.RandomForestRegressor.20191004...      0.0      False  "
      ]
     },
     "metadata": {},
     "output_type": "display_data"
    },
    {
     "name": "stdout",
     "output_type": "stream",
     "text": [
      "Done!\n"
     ]
    }
   ],
   "source": [
    "%run -i ./src/linear3.py -v -c config/linear3.yaml "
   ]
  },
  {
   "cell_type": "code",
   "execution_count": null,
   "metadata": {},
   "outputs": [],
   "source": []
  }
 ],
 "metadata": {
  "kernelspec": {
   "display_name": "logml",
   "language": "python",
   "name": "logml"
  },
  "language_info": {
   "codemirror_mode": {
    "name": "ipython",
    "version": 3
   },
   "file_extension": ".py",
   "mimetype": "text/x-python",
   "name": "python",
   "nbconvert_exporter": "python",
   "pygments_lexer": "ipython3",
   "version": "3.7.4"
  }
 },
 "nbformat": 4,
 "nbformat_minor": 2
}
