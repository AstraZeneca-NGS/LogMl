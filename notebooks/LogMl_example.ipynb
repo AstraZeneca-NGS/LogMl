{
 "cells": [
  {
   "cell_type": "code",
   "execution_count": 1,
   "metadata": {},
   "outputs": [],
   "source": [
    "%load_ext autoreload\n",
    "%autoreload 2\n",
    "%matplotlib inline"
   ]
  },
  {
   "cell_type": "code",
   "execution_count": 2,
   "metadata": {},
   "outputs": [],
   "source": [
    "import numpy as np\n",
    "import pandas as pd\n",
    "import matplotlib.pyplot as plt\n",
    "\n",
    "from IPython.display import display"
   ]
  },
  {
   "cell_type": "code",
   "execution_count": 3,
   "metadata": {},
   "outputs": [],
   "source": [
    "pd.set_option('display.max_rows', 500)\n",
    "pd.set_option('display.max_columns', 500)"
   ]
  },
  {
   "cell_type": "code",
   "execution_count": 5,
   "metadata": {
    "scrolled": false
   },
   "outputs": [
    {
     "name": "stderr",
     "output_type": "stream",
     "text": [
      "2019-10-04 13:00:05,032 INFO Reading yaml file 'config/linear3.yaml'\n",
      "2019-10-04 13:00:06,747 INFO Load dataset: Loading pickle file 'data/linear3/linear3.pkl'\n",
      "2019-10-04 13:00:08,860 INFO Search: Create dataset=False\n"
     ]
    },
    {
     "name": "stdout",
     "output_type": "stream",
     "text": [
      "\r",
      "  0%|          | 0/5 [00:00<?, ?it/s, best loss: ?]"
     ]
    },
    {
     "name": "stderr",
     "output_type": "stream",
     "text": [
      "2019-10-04 13:00:09,945 INFO Creating model based on class 'sklearn.ensemble.RandomForestRegressor'\n",
      "2019-10-04 13:00:11,571 INFO Hyper parameter optimization:\titeration: 1\tfit: 0.060407680144616505\tparameters: {'model_create': {'max_features': 0.9956705425498513, 'min_samples_leaf': 38, 'n_estimators': 420}}\tbest fit: 0.060407680144616505\tbest parameters: {'model_create': {'max_features': 0.9956705425498513, 'min_samples_leaf': 38, 'n_estimators': 420}}\n"
     ]
    },
    {
     "name": "stdout",
     "output_type": "stream",
     "text": [
      "\r",
      " 20%|██        | 1/5 [00:02<00:10,  2.71s/it, best loss: 0.060407680144616505]"
     ]
    },
    {
     "name": "stderr",
     "output_type": "stream",
     "text": [
      "2019-10-04 13:00:12,652 INFO Creating model based on class 'sklearn.ensemble.RandomForestRegressor'\n",
      "2019-10-04 13:00:13,817 INFO Hyper parameter optimization:\titeration: 2\tfit: 0.1886396879420713\tparameters: {'model_create': {'max_features': 0.4547540520474179, 'min_samples_leaf': 38, 'n_estimators': 96}}\tbest fit: 0.060407680144616505\tbest parameters: {'model_create': {'max_features': 0.9956705425498513, 'min_samples_leaf': 38, 'n_estimators': 420}}\n"
     ]
    },
    {
     "name": "stdout",
     "output_type": "stream",
     "text": [
      "\r",
      " 40%|████      | 2/5 [00:04<00:07,  2.57s/it, best loss: 0.060407680144616505]"
     ]
    },
    {
     "name": "stderr",
     "output_type": "stream",
     "text": [
      "2019-10-04 13:00:14,952 INFO Creating model based on class 'sklearn.ensemble.RandomForestRegressor'\n",
      "2019-10-04 13:00:16,244 INFO Hyper parameter optimization:\titeration: 3\tfit: 0.12920672651076248\tparameters: {'model_create': {'max_features': 0.8786683093372113, 'min_samples_leaf': 75, 'n_estimators': 199}}\tbest fit: 0.060407680144616505\tbest parameters: {'model_create': {'max_features': 0.9956705425498513, 'min_samples_leaf': 38, 'n_estimators': 420}}\n"
     ]
    },
    {
     "name": "stdout",
     "output_type": "stream",
     "text": [
      "\r",
      " 60%|██████    | 3/5 [00:07<00:05,  2.53s/it, best loss: 0.060407680144616505]"
     ]
    },
    {
     "name": "stderr",
     "output_type": "stream",
     "text": [
      "2019-10-04 13:00:17,382 INFO Creating model based on class 'sklearn.ensemble.RandomForestRegressor'\n",
      "2019-10-04 13:00:18,449 INFO Hyper parameter optimization:\titeration: 4\tfit: 0.13743382325170195\tparameters: {'model_create': {'max_features': 0.9055502149297794, 'min_samples_leaf': 84, 'n_estimators': 79}}\tbest fit: 0.060407680144616505\tbest parameters: {'model_create': {'max_features': 0.9956705425498513, 'min_samples_leaf': 38, 'n_estimators': 420}}\n"
     ]
    },
    {
     "name": "stdout",
     "output_type": "stream",
     "text": [
      "\r",
      " 80%|████████  | 4/5 [00:09<00:02,  2.43s/it, best loss: 0.060407680144616505]"
     ]
    },
    {
     "name": "stderr",
     "output_type": "stream",
     "text": [
      "2019-10-04 13:00:19,561 INFO Creating model based on class 'sklearn.ensemble.RandomForestRegressor'\n",
      "2019-10-04 13:00:21,094 INFO Hyper parameter optimization:\titeration: 5\tfit: 0.04800385059994938\tparameters: {'model_create': {'max_features': 0.994219533586284, 'min_samples_leaf': 28, 'n_estimators': 408}}\tbest fit: 0.04800385059994938\tbest parameters: {'model_create': {'max_features': 0.994219533586284, 'min_samples_leaf': 28, 'n_estimators': 408}}\n"
     ]
    },
    {
     "name": "stdout",
     "output_type": "stream",
     "text": [
      "100%|██████████| 5/5 [00:12<00:00,  2.45s/it, best loss: 0.04800385059994938] "
     ]
    },
    {
     "name": "stderr",
     "output_type": "stream",
     "text": [
      "2019-10-04 13:00:21,097 INFO Hyper parameter search best fit:{'max_features': 0.994219533586284, 'min_samples_leaf': 28, 'n_estimators': 408}, best parameters: {'model_create': {'max_features': 0.994219533586284, 'min_samples_leaf': 28, 'n_estimators': 408}}\n"
     ]
    },
    {
     "name": "stdout",
     "output_type": "stream",
     "text": [
      "\n"
     ]
    },
    {
     "data": {
      "text/html": [
       "<div>\n",
       "<style scoped>\n",
       "    .dataframe tbody tr th:only-of-type {\n",
       "        vertical-align: middle;\n",
       "    }\n",
       "\n",
       "    .dataframe tbody tr th {\n",
       "        vertical-align: top;\n",
       "    }\n",
       "\n",
       "    .dataframe thead th {\n",
       "        text-align: right;\n",
       "    }\n",
       "</style>\n",
       "<table border=\"1\" class=\"dataframe\">\n",
       "  <thead>\n",
       "    <tr style=\"text-align: right;\">\n",
       "      <th></th>\n",
       "      <th>train</th>\n",
       "      <th>validate</th>\n",
       "      <th>time</th>\n",
       "      <th>n_estimators</th>\n",
       "      <th>min_samples_leaf</th>\n",
       "      <th>max_features</th>\n",
       "    </tr>\n",
       "  </thead>\n",
       "  <tbody>\n",
       "    <tr>\n",
       "      <td>sklearn.ensemble.RandomForestRegressor.20191004.170018.601964.12</td>\n",
       "      <td>0.048004</td>\n",
       "      <td>0.048004</td>\n",
       "      <td>1.172005</td>\n",
       "      <td>30</td>\n",
       "      <td>3</td>\n",
       "      <td>0.7</td>\n",
       "    </tr>\n",
       "    <tr>\n",
       "      <td>sklearn.ensemble.RandomForestRegressor.20191004.170009.088568.8</td>\n",
       "      <td>0.060408</td>\n",
       "      <td>0.060408</td>\n",
       "      <td>1.191059</td>\n",
       "      <td>30</td>\n",
       "      <td>3</td>\n",
       "      <td>0.7</td>\n",
       "    </tr>\n",
       "    <tr>\n",
       "      <td>sklearn.ensemble.RandomForestRegressor.20191004.170013.972955.10</td>\n",
       "      <td>0.129207</td>\n",
       "      <td>0.129207</td>\n",
       "      <td>0.900609</td>\n",
       "      <td>30</td>\n",
       "      <td>3</td>\n",
       "      <td>0.7</td>\n",
       "    </tr>\n",
       "    <tr>\n",
       "      <td>sklearn.ensemble.RandomForestRegressor.20191004.170016.419810.11</td>\n",
       "      <td>0.137434</td>\n",
       "      <td>0.137434</td>\n",
       "      <td>0.708763</td>\n",
       "      <td>30</td>\n",
       "      <td>3</td>\n",
       "      <td>0.7</td>\n",
       "    </tr>\n",
       "    <tr>\n",
       "      <td>sklearn.ensemble.RandomForestRegressor.20191004.170011.723909.9</td>\n",
       "      <td>0.188640</td>\n",
       "      <td>0.188640</td>\n",
       "      <td>0.694652</td>\n",
       "      <td>30</td>\n",
       "      <td>3</td>\n",
       "      <td>0.7</td>\n",
       "    </tr>\n",
       "  </tbody>\n",
       "</table>\n",
       "</div>"
      ],
      "text/plain": [
       "                                                       train  validate  \\\n",
       "sklearn.ensemble.RandomForestRegressor.20191004...  0.048004  0.048004   \n",
       "sklearn.ensemble.RandomForestRegressor.20191004...  0.060408  0.060408   \n",
       "sklearn.ensemble.RandomForestRegressor.20191004...  0.129207  0.129207   \n",
       "sklearn.ensemble.RandomForestRegressor.20191004...  0.137434  0.137434   \n",
       "sklearn.ensemble.RandomForestRegressor.20191004...  0.188640  0.188640   \n",
       "\n",
       "                                                        time  n_estimators  \\\n",
       "sklearn.ensemble.RandomForestRegressor.20191004...  1.172005            30   \n",
       "sklearn.ensemble.RandomForestRegressor.20191004...  1.191059            30   \n",
       "sklearn.ensemble.RandomForestRegressor.20191004...  0.900609            30   \n",
       "sklearn.ensemble.RandomForestRegressor.20191004...  0.708763            30   \n",
       "sklearn.ensemble.RandomForestRegressor.20191004...  0.694652            30   \n",
       "\n",
       "                                                    min_samples_leaf  \\\n",
       "sklearn.ensemble.RandomForestRegressor.20191004...                 3   \n",
       "sklearn.ensemble.RandomForestRegressor.20191004...                 3   \n",
       "sklearn.ensemble.RandomForestRegressor.20191004...                 3   \n",
       "sklearn.ensemble.RandomForestRegressor.20191004...                 3   \n",
       "sklearn.ensemble.RandomForestRegressor.20191004...                 3   \n",
       "\n",
       "                                                    max_features  \n",
       "sklearn.ensemble.RandomForestRegressor.20191004...           0.7  \n",
       "sklearn.ensemble.RandomForestRegressor.20191004...           0.7  \n",
       "sklearn.ensemble.RandomForestRegressor.20191004...           0.7  \n",
       "sklearn.ensemble.RandomForestRegressor.20191004...           0.7  \n",
       "sklearn.ensemble.RandomForestRegressor.20191004...           0.7  "
      ]
     },
     "metadata": {},
     "output_type": "display_data"
    },
    {
     "name": "stdout",
     "output_type": "stream",
     "text": [
      "Done!\n"
     ]
    }
   ],
   "source": [
    "%run -i ./src/linear3.py -v -c config/linear3.yaml "
   ]
  },
  {
   "cell_type": "code",
   "execution_count": null,
   "metadata": {},
   "outputs": [],
   "source": []
  }
 ],
 "metadata": {
  "kernelspec": {
   "display_name": "logml",
   "language": "python",
   "name": "logml"
  },
  "language_info": {
   "codemirror_mode": {
    "name": "ipython",
    "version": 3
   },
   "file_extension": ".py",
   "mimetype": "text/x-python",
   "name": "python",
   "nbconvert_exporter": "python",
   "pygments_lexer": "ipython3",
   "version": "3.7.4"
  }
 },
 "nbformat": 4,
 "nbformat_minor": 2
}
