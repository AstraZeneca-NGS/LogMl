{
 "cells": [
  {
   "cell_type": "code",
   "execution_count": 1,
   "metadata": {},
   "outputs": [],
   "source": [
    "%load_ext autoreload\n",
    "%autoreload 2\n",
    "%matplotlib inline"
   ]
  },
  {
   "cell_type": "code",
   "execution_count": 2,
   "metadata": {},
   "outputs": [],
   "source": [
    "import numpy as np\n",
    "import pandas as pd\n",
    "import matplotlib.pyplot as plt\n",
    "\n",
    "from IPython.display import display"
   ]
  },
  {
   "cell_type": "code",
   "execution_count": 65,
   "metadata": {},
   "outputs": [],
   "source": [
    "pd.set_option('display.max_rows', 500)\n",
    "pd.set_option('display.max_columns', 500)"
   ]
  },
  {
   "cell_type": "code",
   "execution_count": 6,
   "metadata": {
    "scrolled": false
   },
   "outputs": [],
   "source": [
    "#%run -i ./src/linear3.py -v -c config/linear3.yaml "
   ]
  },
  {
   "cell_type": "code",
   "execution_count": 72,
   "metadata": {},
   "outputs": [],
   "source": [
    "# Number of samples\n",
    "num = 1000\n",
    "\n",
    "# Inputs\n",
    "x1 = np.random.normal(0, 1, num)\n",
    "x2 = np.random.normal(2, 3, num)\n",
    "x3 = np.random.normal(-3, 5, num)\n",
    "\n",
    "# Categorical\n",
    "c1 = (3 * np.random.rand(num)).astype(int)\n",
    "c1_classes = {0: 'low', 1:' mid', 2: 'high'}\n",
    "c1_str = np.array([c1_classes[c] for c in c1])\n",
    "\n",
    "c2 = (5 * np.random.rand(num)).astype(int)\n",
    "c2_classes = {0: 'very_low', 1: 'low', 2:' mid', 3: 'high', 4:'very_high'}\n",
    "c2_str = np.array([c2_classes[c] for c in c2])\n",
    "\n",
    "# Noise\n",
    "n = np.random.normal(0, 1, num)\n",
    "\n",
    "# Output\n",
    "y = 3. * x1 - 1. * x2 + 0.5 * x3 + 0.5 * c1 - 0.3 * c2 + 0.1 * n\n",
    "\n",
    "# Add missing data\n",
    "x1_na = (np.random.rand(num) < 0.01)\n",
    "x2_na = (np.random.rand(num) < 0.01)\n",
    "x3_na = (np.random.rand(num) < 0.01)\n",
    "\n",
    "x1[x1_na] = np.nan\n",
    "x2[x2_na] = np.nan\n",
    "x3[x3_na] = np.nan\n",
    "\n",
    "# Create dataFrame\n",
    "df = pd.DataFrame({'x1': x1, 'x2': x2, 'x3': x3, 'c1': c1_str, 'c2': c2_str, 'y': y})\n",
    "df.to_csv('linear3c.csv', index=False)"
   ]
  },
  {
   "cell_type": "code",
   "execution_count": 70,
   "metadata": {},
   "outputs": [
    {
     "data": {
      "text/plain": [
       "<bound method NDFrame.to_csv of            x1        x2        x3    c1         c2          y\n",
       "0    0.368079  0.782144  1.430560  high        low   2.073910\n",
       "1   -0.117495  1.211758 -5.507757   mid   very_low  -3.722498\n",
       "2   -2.559658 -2.403784 -2.996827   low  very_high  -8.047976\n",
       "3    1.037134 -1.395471 -7.115431  high   very_low   2.027585\n",
       "4   -0.823233  2.895535  2.078677   low  very_high  -5.681659\n",
       "..        ...       ...       ...   ...        ...        ...\n",
       "995  0.571702  3.764881  7.321786   low       high   0.748388\n",
       "996  0.613520  5.997117  4.160732   mid        mid  -2.274865\n",
       "997 -1.194825  4.099442 -6.655235  high       high -11.204608\n",
       "998  1.162761  0.683687 -7.390423   low  very_high  -2.092664\n",
       "999 -0.660874 -1.487007  2.865575   mid       high   0.427453\n",
       "\n",
       "[1000 rows x 6 columns]>"
      ]
     },
     "execution_count": 70,
     "metadata": {},
     "output_type": "execute_result"
    }
   ],
   "source": []
  },
  {
   "cell_type": "code",
   "execution_count": null,
   "metadata": {},
   "outputs": [],
   "source": []
  }
 ],
 "metadata": {
  "kernelspec": {
   "display_name": "logml",
   "language": "python",
   "name": "logml"
  },
  "language_info": {
   "codemirror_mode": {
    "name": "ipython",
    "version": 3
   },
   "file_extension": ".py",
   "mimetype": "text/x-python",
   "name": "python",
   "nbconvert_exporter": "python",
   "pygments_lexer": "ipython3",
   "version": "3.7.4"
  }
 },
 "nbformat": 4,
 "nbformat_minor": 2
}
