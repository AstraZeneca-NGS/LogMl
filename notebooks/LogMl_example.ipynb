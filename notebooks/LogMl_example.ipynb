{
 "cells": [
  {
   "cell_type": "code",
   "execution_count": 1,
   "metadata": {},
   "outputs": [],
   "source": [
    "%load_ext autoreload\n",
    "%autoreload 2\n",
    "%matplotlib inline"
   ]
  },
  {
   "cell_type": "code",
   "execution_count": 2,
   "metadata": {},
   "outputs": [],
   "source": [
    "import numpy as np\n",
    "import pandas as pd\n",
    "import matplotlib.pyplot as plt\n",
    "\n",
    "from IPython.display import display"
   ]
  },
  {
   "cell_type": "code",
   "execution_count": 3,
   "metadata": {},
   "outputs": [],
   "source": [
    "pd.set_option('display.max_rows', 500)\n",
    "pd.set_option('display.max_columns', 500)"
   ]
  },
  {
   "cell_type": "code",
   "execution_count": 4,
   "metadata": {
    "scrolled": false
   },
   "outputs": [
    {
     "name": "stderr",
     "output_type": "stream",
     "text": [
      "/Users/kqrw311/logml/lib/python3.7/site-packages/tensorflow/python/framework/dtypes.py:516: FutureWarning: Passing (type, 1) or '1type' as a synonym of type is deprecated; in a future version of numpy, it will be understood as (type, (1,)) / '(1,)type'.\n",
      "  _np_qint8 = np.dtype([(\"qint8\", np.int8, 1)])\n",
      "/Users/kqrw311/logml/lib/python3.7/site-packages/tensorflow/python/framework/dtypes.py:517: FutureWarning: Passing (type, 1) or '1type' as a synonym of type is deprecated; in a future version of numpy, it will be understood as (type, (1,)) / '(1,)type'.\n",
      "  _np_quint8 = np.dtype([(\"quint8\", np.uint8, 1)])\n",
      "/Users/kqrw311/logml/lib/python3.7/site-packages/tensorflow/python/framework/dtypes.py:518: FutureWarning: Passing (type, 1) or '1type' as a synonym of type is deprecated; in a future version of numpy, it will be understood as (type, (1,)) / '(1,)type'.\n",
      "  _np_qint16 = np.dtype([(\"qint16\", np.int16, 1)])\n",
      "/Users/kqrw311/logml/lib/python3.7/site-packages/tensorflow/python/framework/dtypes.py:519: FutureWarning: Passing (type, 1) or '1type' as a synonym of type is deprecated; in a future version of numpy, it will be understood as (type, (1,)) / '(1,)type'.\n",
      "  _np_quint16 = np.dtype([(\"quint16\", np.uint16, 1)])\n",
      "/Users/kqrw311/logml/lib/python3.7/site-packages/tensorflow/python/framework/dtypes.py:520: FutureWarning: Passing (type, 1) or '1type' as a synonym of type is deprecated; in a future version of numpy, it will be understood as (type, (1,)) / '(1,)type'.\n",
      "  _np_qint32 = np.dtype([(\"qint32\", np.int32, 1)])\n",
      "/Users/kqrw311/logml/lib/python3.7/site-packages/tensorflow/python/framework/dtypes.py:525: FutureWarning: Passing (type, 1) or '1type' as a synonym of type is deprecated; in a future version of numpy, it will be understood as (type, (1,)) / '(1,)type'.\n",
      "  np_resource = np.dtype([(\"resource\", np.ubyte, 1)])\n",
      "/Users/kqrw311/logml/lib/python3.7/site-packages/tensorboard/compat/tensorflow_stub/dtypes.py:541: FutureWarning: Passing (type, 1) or '1type' as a synonym of type is deprecated; in a future version of numpy, it will be understood as (type, (1,)) / '(1,)type'.\n",
      "  _np_qint8 = np.dtype([(\"qint8\", np.int8, 1)])\n",
      "/Users/kqrw311/logml/lib/python3.7/site-packages/tensorboard/compat/tensorflow_stub/dtypes.py:542: FutureWarning: Passing (type, 1) or '1type' as a synonym of type is deprecated; in a future version of numpy, it will be understood as (type, (1,)) / '(1,)type'.\n",
      "  _np_quint8 = np.dtype([(\"quint8\", np.uint8, 1)])\n",
      "/Users/kqrw311/logml/lib/python3.7/site-packages/tensorboard/compat/tensorflow_stub/dtypes.py:543: FutureWarning: Passing (type, 1) or '1type' as a synonym of type is deprecated; in a future version of numpy, it will be understood as (type, (1,)) / '(1,)type'.\n",
      "  _np_qint16 = np.dtype([(\"qint16\", np.int16, 1)])\n",
      "/Users/kqrw311/logml/lib/python3.7/site-packages/tensorboard/compat/tensorflow_stub/dtypes.py:544: FutureWarning: Passing (type, 1) or '1type' as a synonym of type is deprecated; in a future version of numpy, it will be understood as (type, (1,)) / '(1,)type'.\n",
      "  _np_quint16 = np.dtype([(\"quint16\", np.uint16, 1)])\n",
      "/Users/kqrw311/logml/lib/python3.7/site-packages/tensorboard/compat/tensorflow_stub/dtypes.py:545: FutureWarning: Passing (type, 1) or '1type' as a synonym of type is deprecated; in a future version of numpy, it will be understood as (type, (1,)) / '(1,)type'.\n",
      "  _np_qint32 = np.dtype([(\"qint32\", np.int32, 1)])\n",
      "/Users/kqrw311/logml/lib/python3.7/site-packages/tensorboard/compat/tensorflow_stub/dtypes.py:550: FutureWarning: Passing (type, 1) or '1type' as a synonym of type is deprecated; in a future version of numpy, it will be understood as (type, (1,)) / '(1,)type'.\n",
      "  np_resource = np.dtype([(\"resource\", np.ubyte, 1)])\n",
      "2019-10-04 12:44:01,144 INFO Reading yaml file 'config/linear3.yaml'\n",
      "2019-10-04 12:44:02,650 INFO Load dataset: Loading pickle file 'data/linear3/linear3.pkl'\n",
      "2019-10-04 12:44:04,313 INFO Search: Create dataset=False\n"
     ]
    },
    {
     "name": "stdout",
     "output_type": "stream",
     "text": [
      "\r",
      "  0%|          | 0/10 [00:00<?, ?it/s, best loss: ?]"
     ]
    },
    {
     "name": "stderr",
     "output_type": "stream",
     "text": [
      "2019-10-04 12:44:05,218 INFO Creating model based on class 'sklearn.ensemble.RandomForestRegressor'\n",
      "2019-10-04 12:44:06,370 INFO Hyper parameter optimization:\titeration: 1\tfit: 0.07687451060094352\tparameters: {'model_create': {'max_features': 0.7190995395333892, 'min_samples_leaf': 46, 'n_estimators': 299}}\tbest fit: 0.07687451060094352\tbest parameters: {'model_create': {'max_features': 0.7190995395333892, 'min_samples_leaf': 46, 'n_estimators': 299}}\n"
     ]
    },
    {
     "name": "stdout",
     "output_type": "stream",
     "text": [
      "\r",
      " 10%|█         | 1/10 [00:02<00:18,  2.05s/it, best loss: 0.07687451060094352]"
     ]
    },
    {
     "name": "stderr",
     "output_type": "stream",
     "text": [
      "2019-10-04 12:44:07,266 INFO Creating model based on class 'sklearn.ensemble.RandomForestRegressor'\n",
      "2019-10-04 12:44:08,468 INFO Hyper parameter optimization:\titeration: 2\tfit: 0.17787340279958241\tparameters: {'model_create': {'max_features': 0.009719862293328885, 'min_samples_leaf': 38, 'n_estimators': 359}}\tbest fit: 0.07687451060094352\tbest parameters: {'model_create': {'max_features': 0.7190995395333892, 'min_samples_leaf': 46, 'n_estimators': 299}}\n"
     ]
    },
    {
     "name": "stdout",
     "output_type": "stream",
     "text": [
      "\r",
      " 20%|██        | 2/10 [00:04<00:16,  2.07s/it, best loss: 0.07687451060094352]"
     ]
    },
    {
     "name": "stderr",
     "output_type": "stream",
     "text": [
      "2019-10-04 12:44:09,365 INFO Creating model based on class 'sklearn.ensemble.RandomForestRegressor'\n",
      "2019-10-04 12:44:10,770 INFO Hyper parameter optimization:\titeration: 3\tfit: 0.14705783560579755\tparameters: {'model_create': {'max_features': 0.8270299943932659, 'min_samples_leaf': 87, 'n_estimators': 443}}\tbest fit: 0.07687451060094352\tbest parameters: {'model_create': {'max_features': 0.7190995395333892, 'min_samples_leaf': 46, 'n_estimators': 299}}\n"
     ]
    },
    {
     "name": "stdout",
     "output_type": "stream",
     "text": [
      "\r",
      " 30%|███       | 3/10 [00:06<00:14,  2.14s/it, best loss: 0.07687451060094352]"
     ]
    },
    {
     "name": "stderr",
     "output_type": "stream",
     "text": [
      "2019-10-04 12:44:11,656 INFO Creating model based on class 'sklearn.ensemble.RandomForestRegressor'\n",
      "2019-10-04 12:44:13,659 INFO Hyper parameter optimization:\titeration: 4\tfit: 0.23024754522999957\tparameters: {'model_create': {'max_features': 0.3913525799147852, 'min_samples_leaf': 58, 'n_estimators': 867}}\tbest fit: 0.07687451060094352\tbest parameters: {'model_create': {'max_features': 0.7190995395333892, 'min_samples_leaf': 46, 'n_estimators': 299}}\n"
     ]
    },
    {
     "name": "stdout",
     "output_type": "stream",
     "text": [
      "\r",
      " 40%|████      | 4/10 [00:09<00:14,  2.36s/it, best loss: 0.07687451060094352]"
     ]
    },
    {
     "name": "stderr",
     "output_type": "stream",
     "text": [
      "2019-10-04 12:44:14,607 INFO Creating model based on class 'sklearn.ensemble.RandomForestRegressor'\n",
      "2019-10-04 12:44:15,662 INFO Hyper parameter optimization:\titeration: 5\tfit: 0.1136256724011332\tparameters: {'model_create': {'max_features': 0.22060126337950858, 'min_samples_leaf': 21, 'n_estimators': 127}}\tbest fit: 0.07687451060094352\tbest parameters: {'model_create': {'max_features': 0.7190995395333892, 'min_samples_leaf': 46, 'n_estimators': 299}}\n"
     ]
    },
    {
     "name": "stdout",
     "output_type": "stream",
     "text": [
      "\r",
      " 50%|█████     | 5/10 [00:11<00:11,  2.26s/it, best loss: 0.07687451060094352]"
     ]
    },
    {
     "name": "stderr",
     "output_type": "stream",
     "text": [
      "2019-10-04 12:44:16,613 INFO Creating model based on class 'sklearn.ensemble.RandomForestRegressor'\n",
      "2019-10-04 12:44:18,174 INFO Hyper parameter optimization:\titeration: 6\tfit: 0.09572919317172457\tparameters: {'model_create': {'max_features': 0.9275346910895563, 'min_samples_leaf': 59, 'n_estimators': 577}}\tbest fit: 0.07687451060094352\tbest parameters: {'model_create': {'max_features': 0.7190995395333892, 'min_samples_leaf': 46, 'n_estimators': 299}}\n"
     ]
    },
    {
     "name": "stdout",
     "output_type": "stream",
     "text": [
      "\r",
      " 60%|██████    | 6/10 [00:13<00:09,  2.33s/it, best loss: 0.07687451060094352]"
     ]
    },
    {
     "name": "stderr",
     "output_type": "stream",
     "text": [
      "2019-10-04 12:44:19,107 INFO Creating model based on class 'sklearn.ensemble.RandomForestRegressor'\n",
      "2019-10-04 12:44:20,564 INFO Hyper parameter optimization:\titeration: 7\tfit: 0.2727621658490125\tparameters: {'model_create': {'max_features': 0.1827682548257631, 'min_samples_leaf': 68, 'n_estimators': 522}}\tbest fit: 0.07687451060094352\tbest parameters: {'model_create': {'max_features': 0.7190995395333892, 'min_samples_leaf': 46, 'n_estimators': 299}}\n"
     ]
    },
    {
     "name": "stdout",
     "output_type": "stream",
     "text": [
      "\r",
      " 70%|███████   | 7/10 [00:16<00:07,  2.35s/it, best loss: 0.07687451060094352]"
     ]
    },
    {
     "name": "stderr",
     "output_type": "stream",
     "text": [
      "2019-10-04 12:44:21,489 INFO Creating model based on class 'sklearn.ensemble.RandomForestRegressor'\n",
      "2019-10-04 12:44:22,518 INFO Hyper parameter optimization:\titeration: 8\tfit: 0.2855634558030886\tparameters: {'model_create': {'max_features': 0.6047188651278769, 'min_samples_leaf': 73, 'n_estimators': 84}}\tbest fit: 0.07687451060094352\tbest parameters: {'model_create': {'max_features': 0.7190995395333892, 'min_samples_leaf': 46, 'n_estimators': 299}}\n"
     ]
    },
    {
     "name": "stdout",
     "output_type": "stream",
     "text": [
      "\r",
      " 80%|████████  | 8/10 [00:18<00:04,  2.23s/it, best loss: 0.07687451060094352]"
     ]
    },
    {
     "name": "stderr",
     "output_type": "stream",
     "text": [
      "2019-10-04 12:44:23,419 INFO Creating model based on class 'sklearn.ensemble.RandomForestRegressor'\n",
      "2019-10-04 12:44:25,303 INFO Hyper parameter optimization:\titeration: 9\tfit: 0.09079246376618277\tparameters: {'model_create': {'max_features': 0.5801623573632883, 'min_samples_leaf': 15, 'n_estimators': 802}}\tbest fit: 0.07687451060094352\tbest parameters: {'model_create': {'max_features': 0.7190995395333892, 'min_samples_leaf': 46, 'n_estimators': 299}}\n"
     ]
    },
    {
     "name": "stdout",
     "output_type": "stream",
     "text": [
      "\r",
      " 90%|█████████ | 9/10 [00:20<00:02,  2.40s/it, best loss: 0.07687451060094352]"
     ]
    },
    {
     "name": "stderr",
     "output_type": "stream",
     "text": [
      "2019-10-04 12:44:26,152 INFO Creating model based on class 'sklearn.ensemble.RandomForestRegressor'\n",
      "2019-10-04 12:44:27,210 INFO Hyper parameter optimization:\titeration: 10\tfit: 0.08805571062321771\tparameters: {'model_create': {'max_features': 0.9600842860145431, 'min_samples_leaf': 52, 'n_estimators': 123}}\tbest fit: 0.07687451060094352\tbest parameters: {'model_create': {'max_features': 0.7190995395333892, 'min_samples_leaf': 46, 'n_estimators': 299}}\n"
     ]
    },
    {
     "name": "stdout",
     "output_type": "stream",
     "text": [
      "100%|██████████| 10/10 [00:22<00:00,  2.29s/it, best loss: 0.07687451060094352]"
     ]
    },
    {
     "name": "stderr",
     "output_type": "stream",
     "text": [
      "2019-10-04 12:44:27,213 INFO Hyper parameter search best fit:{'max_features': 0.7190995395333892, 'min_samples_leaf': 46, 'n_estimators': 299}, best parameters: {'model_create': {'max_features': 0.7190995395333892, 'min_samples_leaf': 46, 'n_estimators': 299}}\n"
     ]
    },
    {
     "name": "stdout",
     "output_type": "stream",
     "text": [
      "\n"
     ]
    },
    {
     "data": {
      "text/html": [
       "<div>\n",
       "<style scoped>\n",
       "    .dataframe tbody tr th:only-of-type {\n",
       "        vertical-align: middle;\n",
       "    }\n",
       "\n",
       "    .dataframe tbody tr th {\n",
       "        vertical-align: top;\n",
       "    }\n",
       "\n",
       "    .dataframe thead th {\n",
       "        text-align: right;\n",
       "    }\n",
       "</style>\n",
       "<table border=\"1\" class=\"dataframe\">\n",
       "  <thead>\n",
       "    <tr style=\"text-align: right;\">\n",
       "      <th></th>\n",
       "      <th>train</th>\n",
       "      <th>validate</th>\n",
       "      <th>time</th>\n",
       "    </tr>\n",
       "  </thead>\n",
       "  <tbody>\n",
       "    <tr>\n",
       "      <td>sklearn.ensemble.RandomForestRegressor.20191004.164404.517899.2</td>\n",
       "      <td>0.076875</td>\n",
       "      <td>0.076875</td>\n",
       "      <td>0.863467</td>\n",
       "    </tr>\n",
       "    <tr>\n",
       "      <td>sklearn.ensemble.RandomForestRegressor.20191004.164406.580857.3</td>\n",
       "      <td>0.177873</td>\n",
       "      <td>0.177873</td>\n",
       "      <td>0.912204</td>\n",
       "    </tr>\n",
       "    <tr>\n",
       "      <td>sklearn.ensemble.RandomForestRegressor.20191004.164408.672418.4</td>\n",
       "      <td>0.147058</td>\n",
       "      <td>0.147058</td>\n",
       "      <td>1.009934</td>\n",
       "    </tr>\n",
       "    <tr>\n",
       "      <td>sklearn.ensemble.RandomForestRegressor.20191004.164410.901559.5</td>\n",
       "      <td>0.230248</td>\n",
       "      <td>0.230248</td>\n",
       "      <td>1.589480</td>\n",
       "    </tr>\n",
       "    <tr>\n",
       "      <td>sklearn.ensemble.RandomForestRegressor.20191004.164413.790839.6</td>\n",
       "      <td>0.113626</td>\n",
       "      <td>0.113626</td>\n",
       "      <td>0.686024</td>\n",
       "    </tr>\n",
       "    <tr>\n",
       "      <td>sklearn.ensemble.RandomForestRegressor.20191004.164415.806725.7</td>\n",
       "      <td>0.095729</td>\n",
       "      <td>0.095729</td>\n",
       "      <td>1.257393</td>\n",
       "    </tr>\n",
       "    <tr>\n",
       "      <td>sklearn.ensemble.RandomForestRegressor.20191004.164418.384503.8</td>\n",
       "      <td>0.272762</td>\n",
       "      <td>0.272762</td>\n",
       "      <td>1.138099</td>\n",
       "    </tr>\n",
       "    <tr>\n",
       "      <td>sklearn.ensemble.RandomForestRegressor.20191004.164420.768281.9</td>\n",
       "      <td>0.285563</td>\n",
       "      <td>0.285563</td>\n",
       "      <td>0.646425</td>\n",
       "    </tr>\n",
       "    <tr>\n",
       "      <td>sklearn.ensemble.RandomForestRegressor.20191004.164422.656575.10</td>\n",
       "      <td>0.090792</td>\n",
       "      <td>0.090792</td>\n",
       "      <td>1.500249</td>\n",
       "    </tr>\n",
       "    <tr>\n",
       "      <td>sklearn.ensemble.RandomForestRegressor.20191004.164425.428636.11</td>\n",
       "      <td>0.088056</td>\n",
       "      <td>0.088056</td>\n",
       "      <td>0.694844</td>\n",
       "    </tr>\n",
       "  </tbody>\n",
       "</table>\n",
       "</div>"
      ],
      "text/plain": [
       "                                                       train  validate  \\\n",
       "sklearn.ensemble.RandomForestRegressor.20191004...  0.076875  0.076875   \n",
       "sklearn.ensemble.RandomForestRegressor.20191004...  0.177873  0.177873   \n",
       "sklearn.ensemble.RandomForestRegressor.20191004...  0.147058  0.147058   \n",
       "sklearn.ensemble.RandomForestRegressor.20191004...  0.230248  0.230248   \n",
       "sklearn.ensemble.RandomForestRegressor.20191004...  0.113626  0.113626   \n",
       "sklearn.ensemble.RandomForestRegressor.20191004...  0.095729  0.095729   \n",
       "sklearn.ensemble.RandomForestRegressor.20191004...  0.272762  0.272762   \n",
       "sklearn.ensemble.RandomForestRegressor.20191004...  0.285563  0.285563   \n",
       "sklearn.ensemble.RandomForestRegressor.20191004...  0.090792  0.090792   \n",
       "sklearn.ensemble.RandomForestRegressor.20191004...  0.088056  0.088056   \n",
       "\n",
       "                                                        time  \n",
       "sklearn.ensemble.RandomForestRegressor.20191004...  0.863467  \n",
       "sklearn.ensemble.RandomForestRegressor.20191004...  0.912204  \n",
       "sklearn.ensemble.RandomForestRegressor.20191004...  1.009934  \n",
       "sklearn.ensemble.RandomForestRegressor.20191004...  1.589480  \n",
       "sklearn.ensemble.RandomForestRegressor.20191004...  0.686024  \n",
       "sklearn.ensemble.RandomForestRegressor.20191004...  1.257393  \n",
       "sklearn.ensemble.RandomForestRegressor.20191004...  1.138099  \n",
       "sklearn.ensemble.RandomForestRegressor.20191004...  0.646425  \n",
       "sklearn.ensemble.RandomForestRegressor.20191004...  1.500249  \n",
       "sklearn.ensemble.RandomForestRegressor.20191004...  0.694844  "
      ]
     },
     "metadata": {},
     "output_type": "display_data"
    },
    {
     "name": "stdout",
     "output_type": "stream",
     "text": [
      "Done!\n"
     ]
    }
   ],
   "source": [
    "%run -i ./src/linear3.py -v -c config/linear3.yaml "
   ]
  },
  {
   "cell_type": "code",
   "execution_count": null,
   "metadata": {},
   "outputs": [],
   "source": []
  },
  {
   "cell_type": "code",
   "execution_count": null,
   "metadata": {},
   "outputs": [],
   "source": []
  }
 ],
 "metadata": {
  "kernelspec": {
   "display_name": "logml",
   "language": "python",
   "name": "logml"
  },
  "language_info": {
   "codemirror_mode": {
    "name": "ipython",
    "version": 3
   },
   "file_extension": ".py",
   "mimetype": "text/x-python",
   "name": "python",
   "nbconvert_exporter": "python",
   "pygments_lexer": "ipython3",
   "version": "3.7.4"
  }
 },
 "nbformat": 4,
 "nbformat_minor": 2
}
